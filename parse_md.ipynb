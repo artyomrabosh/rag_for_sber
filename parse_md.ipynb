{
 "cells": [
  {
   "cell_type": "code",
   "execution_count": null,
   "metadata": {},
   "outputs": [],
   "source": [
    "from langchain_text_splitters import MarkdownHeaderTextSplitter\n",
    "import langchain\n",
    "from itertools import product\n",
    "import pandas as pd\n",
    "import os\n",
    "\n",
    "md_data_dir = os.path.join(\"dataset\", \"markdown\")\n",
    "\n",
    "\n",
    "\n",
    "def cut_and_clean_file(filename):\n",
    "    file = os.path.join(md_data_dir, filename)\n",
    "    with open(file, encoding=\"utf-8\") as f:\n",
    "        text = f.read()\n",
    "\n",
    "    headers_to_split_on = [\n",
    "        (\"#\", \"Header 1\"),\n",
    "        (\"##\", \"Header 2\"),\n",
    "        (\"###\", \"Header 3\"),\n",
    "    ]\n",
    "\n",
    "\n",
    "    point_bullets_second = [(f\"\\n{i}.{j}. \", f\"Пункт {i}.{j}\") for i,j in product(range(1,9), range(1,50))]\n",
    "    point_bullets_third = [(f\"\\n{i}.{j}.{k}. \", f\"Пункт {i}.{j}.{k}\") for i,j,k in product(range(1,9), range(1,50), range(1,50))]\n",
    "\n",
    "    for splitter, name in point_bullets_second:\n",
    "        text=text.replace(splitter, \"\\n## \" + name + \"\\n\")\n",
    "\n",
    "    for splitter, name in point_bullets_third:\n",
    "        text=text.replace(splitter, \"\\n### \" + name + \"\\n\")\n",
    "\n",
    "\n",
    "    markdown_splitter = MarkdownHeaderTextSplitter(headers_to_split_on, strip_headers=True)\n",
    "    md_header_splits = markdown_splitter.split_text(text)\n",
    "\n",
    "    num_of_headers = len(headers_to_split_on)\n",
    "    pages = []\n",
    "    headers = [[] for _ in range(num_of_headers)]\n",
    "\n",
    "\n",
    "    for doc in md_header_splits:\n",
    "        meta = doc.metadata\n",
    "        content = doc.page_content\n",
    "        pages.append(content)\n",
    "        for header in range(num_of_headers):\n",
    "            headers[header].append(meta.get(f\"Header {header + 1}\", None))\n",
    "\n",
    "    result_dict = {f\"Header_{i + 1}\": h for i, h in enumerate(headers)}\n",
    "    result_dict[\"content\"] = pages\n",
    "    pd.DataFrame(result_dict).to_csv(f\"dataset/clean/{filename[:-3]}.csv\", index=False)"
   ]
  },
  {
   "cell_type": "code",
   "execution_count": 160,
   "metadata": {},
   "outputs": [],
   "source": [
    "files = os.listdir(md_data_dir)\n",
    "\n",
    "for file in files:\n",
    "    cut_and_clean_file(file)"
   ]
  }
 ],
 "metadata": {
  "kernelspec": {
   "display_name": "Python 3",
   "language": "python",
   "name": "python3"
  },
  "language_info": {
   "codemirror_mode": {
    "name": "ipython",
    "version": 3
   },
   "file_extension": ".py",
   "mimetype": "text/x-python",
   "name": "python",
   "nbconvert_exporter": "python",
   "pygments_lexer": "ipython3",
   "version": "3.9.7"
  }
 },
 "nbformat": 4,
 "nbformat_minor": 2
}
