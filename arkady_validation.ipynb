{
 "cells": [
  {
   "cell_type": "code",
   "execution_count": null,
   "metadata": {},
   "outputs": [],
   "source": [
    "!pip install -q gigachat\n",
    "!pip install -q langchain-gigachat"
   ]
  },
  {
   "cell_type": "markdown",
   "metadata": {},
   "source": [
    "# start\n",
    "В этом ноуте по таблице с колонками question, golden_answer, rag_answer считаются метрики:\n",
    "\n",
    "1. BLEU . Считается для колонок golden_answer и rag_answer\n",
    "2. Rouge для 1-gramm, 2-gramm, rouge_l_summary_level. Считается для колонок golden_answer и rag_answer\n",
    "3. Дать LLM все 3 колонки и попросить оценить качество ответа\n",
    " \n",
    "\n",
    "Материалы\n",
    "- https://www.elastic.co/search-labs/blog/evaluating-rag-metrics\n",
    "- gigachain https://developers.sber.ru/docs/ru/gigachain/tutorials/chatbot"
   ]
  },
  {
   "cell_type": "code",
   "execution_count": 1,
   "metadata": {},
   "outputs": [
    {
     "data": {
      "text/html": [
       "<div>\n",
       "<style scoped>\n",
       "    .dataframe tbody tr th:only-of-type {\n",
       "        vertical-align: middle;\n",
       "    }\n",
       "\n",
       "    .dataframe tbody tr th {\n",
       "        vertical-align: top;\n",
       "    }\n",
       "\n",
       "    .dataframe thead th {\n",
       "        text-align: right;\n",
       "    }\n",
       "</style>\n",
       "<table border=\"1\" class=\"dataframe\">\n",
       "  <thead>\n",
       "    <tr style=\"text-align: right;\">\n",
       "      <th></th>\n",
       "      <th>question</th>\n",
       "      <th>golden_answer</th>\n",
       "      <th>rag_answer</th>\n",
       "    </tr>\n",
       "  </thead>\n",
       "  <tbody>\n",
       "    <tr>\n",
       "      <th>0</th>\n",
       "      <td>Какие требования предъявляются для перехода на...</td>\n",
       "      <td>Кредитная организация, соответствующая критери...</td>\n",
       "      <td>Для перехода на применение расчетного КВП необ...</td>\n",
       "    </tr>\n",
       "    <tr>\n",
       "      <th>1</th>\n",
       "      <td>Какие действия нужно предпринять в случае реор...</td>\n",
       "      <td>При присоединении другой кредитной организации...</td>\n",
       "      <td>При реорганизации в форме присоединения другой...</td>\n",
       "    </tr>\n",
       "    <tr>\n",
       "      <th>2</th>\n",
       "      <td>Какие особенности применения расчетного КВП су...</td>\n",
       "      <td>Системно значимые кредитные организации обязан...</td>\n",
       "      <td>Особенности применения расчетного КВП для сист...</td>\n",
       "    </tr>\n",
       "    <tr>\n",
       "      <th>3</th>\n",
       "      <td>Какие методики и процедуры расчета оп риска до...</td>\n",
       "      <td>Организация должна зафиксировать во внутренних...</td>\n",
       "      <td>Методики и процедуры расчета операционного рис...</td>\n",
       "    </tr>\n",
       "    <tr>\n",
       "      <th>4</th>\n",
       "      <td>Какие требования должны быть выполнены для иск...</td>\n",
       "      <td>Кредитная организация может исключить определе...</td>\n",
       "      <td>Для исключения доходов и расходов из расчета к...</td>\n",
       "    </tr>\n",
       "  </tbody>\n",
       "</table>\n",
       "</div>"
      ],
      "text/plain": [
       "                                            question  \\\n",
       "0  Какие требования предъявляются для перехода на...   \n",
       "1  Какие действия нужно предпринять в случае реор...   \n",
       "2  Какие особенности применения расчетного КВП су...   \n",
       "3  Какие методики и процедуры расчета оп риска до...   \n",
       "4  Какие требования должны быть выполнены для иск...   \n",
       "\n",
       "                                       golden_answer  \\\n",
       "0  Кредитная организация, соответствующая критери...   \n",
       "1  При присоединении другой кредитной организации...   \n",
       "2  Системно значимые кредитные организации обязан...   \n",
       "3  Организация должна зафиксировать во внутренних...   \n",
       "4  Кредитная организация может исключить определе...   \n",
       "\n",
       "                                          rag_answer  \n",
       "0  Для перехода на применение расчетного КВП необ...  \n",
       "1  При реорганизации в форме присоединения другой...  \n",
       "2  Особенности применения расчетного КВП для сист...  \n",
       "3  Методики и процедуры расчета операционного рис...  \n",
       "4  Для исключения доходов и расходов из расчета к...  "
      ]
     },
     "execution_count": 1,
     "metadata": {},
     "output_type": "execute_result"
    }
   ],
   "source": [
    "import pandas as pd\n",
    "\n",
    "df = pd.read_csv('../dataset_qa_all_gpt4o_answ.csv', sep='@')\n",
    "columns = {\n",
    "    'question': 'Вопрос',\n",
    "    'golden_answer': 'Ответ',\n",
    "    'rag_answer': 'gpt4o'\n",
    "}\n",
    "\n",
    "df = pd.DataFrame(data={col : df[col_old] for col, col_old in columns.items()})\n",
    "df.head()  # we work on evaluation of data in such format"
   ]
  },
  {
   "cell_type": "markdown",
   "metadata": {},
   "source": [
    "# BLEU"
   ]
  },
  {
   "cell_type": "code",
   "execution_count": null,
   "metadata": {},
   "outputs": [
    {
     "data": {
      "text/html": [
       "<div>\n",
       "<style scoped>\n",
       "    .dataframe tbody tr th:only-of-type {\n",
       "        vertical-align: middle;\n",
       "    }\n",
       "\n",
       "    .dataframe tbody tr th {\n",
       "        vertical-align: top;\n",
       "    }\n",
       "\n",
       "    .dataframe thead th {\n",
       "        text-align: right;\n",
       "    }\n",
       "</style>\n",
       "<table border=\"1\" class=\"dataframe\">\n",
       "  <thead>\n",
       "    <tr style=\"text-align: right;\">\n",
       "      <th></th>\n",
       "      <th>question</th>\n",
       "      <th>golden_answer</th>\n",
       "      <th>rag_answer</th>\n",
       "      <th>bleu</th>\n",
       "    </tr>\n",
       "  </thead>\n",
       "  <tbody>\n",
       "    <tr>\n",
       "      <th>0</th>\n",
       "      <td>Какие требования предъявляются для перехода на...</td>\n",
       "      <td>Кредитная организация, соответствующая критери...</td>\n",
       "      <td>Для перехода на применение расчетного КВП необ...</td>\n",
       "      <td>0.014105</td>\n",
       "    </tr>\n",
       "    <tr>\n",
       "      <th>1</th>\n",
       "      <td>Какие действия нужно предпринять в случае реор...</td>\n",
       "      <td>При присоединении другой кредитной организации...</td>\n",
       "      <td>При реорганизации в форме присоединения другой...</td>\n",
       "      <td>0.018000</td>\n",
       "    </tr>\n",
       "    <tr>\n",
       "      <th>2</th>\n",
       "      <td>Какие особенности применения расчетного КВП су...</td>\n",
       "      <td>Системно значимые кредитные организации обязан...</td>\n",
       "      <td>Особенности применения расчетного КВП для сист...</td>\n",
       "      <td>0.009707</td>\n",
       "    </tr>\n",
       "    <tr>\n",
       "      <th>3</th>\n",
       "      <td>Какие методики и процедуры расчета оп риска до...</td>\n",
       "      <td>Организация должна зафиксировать во внутренних...</td>\n",
       "      <td>Методики и процедуры расчета операционного рис...</td>\n",
       "      <td>0.078697</td>\n",
       "    </tr>\n",
       "    <tr>\n",
       "      <th>4</th>\n",
       "      <td>Какие требования должны быть выполнены для иск...</td>\n",
       "      <td>Кредитная организация может исключить определе...</td>\n",
       "      <td>Для исключения доходов и расходов из расчета к...</td>\n",
       "      <td>0.009645</td>\n",
       "    </tr>\n",
       "  </tbody>\n",
       "</table>\n",
       "</div>"
      ],
      "text/plain": [
       "                                            question  \\\n",
       "0  Какие требования предъявляются для перехода на...   \n",
       "1  Какие действия нужно предпринять в случае реор...   \n",
       "2  Какие особенности применения расчетного КВП су...   \n",
       "3  Какие методики и процедуры расчета оп риска до...   \n",
       "4  Какие требования должны быть выполнены для иск...   \n",
       "\n",
       "                                       golden_answer  \\\n",
       "0  Кредитная организация, соответствующая критери...   \n",
       "1  При присоединении другой кредитной организации...   \n",
       "2  Системно значимые кредитные организации обязан...   \n",
       "3  Организация должна зафиксировать во внутренних...   \n",
       "4  Кредитная организация может исключить определе...   \n",
       "\n",
       "                                          rag_answer      bleu  \n",
       "0  Для перехода на применение расчетного КВП необ...  0.014105  \n",
       "1  При реорганизации в форме присоединения другой...  0.018000  \n",
       "2  Особенности применения расчетного КВП для сист...  0.009707  \n",
       "3  Методики и процедуры расчета операционного рис...  0.078697  \n",
       "4  Для исключения доходов и расходов из расчета к...  0.009645  "
      ]
     },
     "execution_count": 2,
     "metadata": {},
     "output_type": "execute_result"
    }
   ],
   "source": [
    "from nltk.translate.bleu_score import sentence_bleu, SmoothingFunction\n",
    "\n",
    "def compute_bleu(reference, hypothesis):\n",
    "    return sentence_bleu([reference.split()], hypothesis.split(), smoothing_function=SmoothingFunction().method1)\n",
    "\n",
    "\n",
    "df['bleu'] = df.apply(lambda x: compute_bleu(x['golden_answer'], x['rag_answer']), axis=1)\n",
    "\n",
    "df.head()"
   ]
  },
  {
   "cell_type": "markdown",
   "metadata": {},
   "source": [
    "# Rouge\n",
    "I think we should look only on f1 scores, probably chose 1 of 3\n",
    "\n",
    "about rouge-l:\n",
    "\n",
    "    Computes ROUGE-L (summary level) of two text collections of sentences.\n",
    "    http://research.microsoft.com/en-us/um/people/cyl/download/papers/rouge-working-note-v1.3.1.pdf\n",
    "\n",
    "    Calculated according to:\n",
    "    R_lcs = SUM(1, u)[LCS<union>(r_i,C)]/m\n",
    "    P_lcs = SUM(1, u)[LCS<union>(r_i,C)]/n\n",
    "    F_lcs = (2*R_lcs*P_lcs) / (R_lcs * P_lcs)\n",
    "\n",
    "    where:\n",
    "    SUM(i,u) = SUM from i through u\n",
    "    u = number of sentences in reference summary\n",
    "    C = Candidate summary made up of v sentences\n",
    "    m = number of words in reference summary\n",
    "    n = number of words in candidate summary\n"
   ]
  },
  {
   "cell_type": "code",
   "execution_count": 51,
   "metadata": {},
   "outputs": [
    {
     "data": {
      "text/html": [
       "<div>\n",
       "<style scoped>\n",
       "    .dataframe tbody tr th:only-of-type {\n",
       "        vertical-align: middle;\n",
       "    }\n",
       "\n",
       "    .dataframe tbody tr th {\n",
       "        vertical-align: top;\n",
       "    }\n",
       "\n",
       "    .dataframe thead th {\n",
       "        text-align: right;\n",
       "    }\n",
       "</style>\n",
       "<table border=\"1\" class=\"dataframe\">\n",
       "  <thead>\n",
       "    <tr style=\"text-align: right;\">\n",
       "      <th></th>\n",
       "      <th>question</th>\n",
       "      <th>golden_answer</th>\n",
       "      <th>rag_answer</th>\n",
       "      <th>bleu</th>\n",
       "      <th>llm_score1</th>\n",
       "      <th>llm_score1_desc</th>\n",
       "      <th>rouge-1_r</th>\n",
       "      <th>rouge-1_p</th>\n",
       "      <th>rouge-1_f</th>\n",
       "      <th>rouge-2_r</th>\n",
       "      <th>rouge-2_p</th>\n",
       "      <th>rouge-2_f</th>\n",
       "      <th>rouge-l_r</th>\n",
       "      <th>rouge-l_p</th>\n",
       "      <th>rouge-l_f</th>\n",
       "    </tr>\n",
       "  </thead>\n",
       "  <tbody>\n",
       "    <tr>\n",
       "      <th>0</th>\n",
       "      <td>Какие требования предъявляются для перехода на...</td>\n",
       "      <td>Кредитная организация, соответствующая критери...</td>\n",
       "      <td>Для перехода на применение расчетного КВП необ...</td>\n",
       "      <td>0.014105</td>\n",
       "      <td>7</td>\n",
       "      <td>The model answer is somewhat relevant but lack...</td>\n",
       "      <td>0.169014</td>\n",
       "      <td>0.387097</td>\n",
       "      <td>0.235294</td>\n",
       "      <td>0.086420</td>\n",
       "      <td>0.205882</td>\n",
       "      <td>0.121739</td>\n",
       "      <td>0.154930</td>\n",
       "      <td>0.354839</td>\n",
       "      <td>0.215686</td>\n",
       "    </tr>\n",
       "    <tr>\n",
       "      <th>1</th>\n",
       "      <td>Какие действия нужно предпринять в случае реор...</td>\n",
       "      <td>При присоединении другой кредитной организации...</td>\n",
       "      <td>При реорганизации в форме присоединения другой...</td>\n",
       "      <td>0.018000</td>\n",
       "      <td>7</td>\n",
       "      <td>The model answer provides a general instructio...</td>\n",
       "      <td>0.175439</td>\n",
       "      <td>0.322581</td>\n",
       "      <td>0.227273</td>\n",
       "      <td>0.048387</td>\n",
       "      <td>0.093750</td>\n",
       "      <td>0.063830</td>\n",
       "      <td>0.175439</td>\n",
       "      <td>0.322581</td>\n",
       "      <td>0.227273</td>\n",
       "    </tr>\n",
       "    <tr>\n",
       "      <th>2</th>\n",
       "      <td>Какие особенности применения расчетного КВП су...</td>\n",
       "      <td>Системно значимые кредитные организации обязан...</td>\n",
       "      <td>Особенности применения расчетного КВП для сист...</td>\n",
       "      <td>0.009707</td>\n",
       "      <td>6</td>\n",
       "      <td>The model answer is partially relevant and lac...</td>\n",
       "      <td>0.125000</td>\n",
       "      <td>0.166667</td>\n",
       "      <td>0.142857</td>\n",
       "      <td>0.019231</td>\n",
       "      <td>0.026316</td>\n",
       "      <td>0.022222</td>\n",
       "      <td>0.125000</td>\n",
       "      <td>0.166667</td>\n",
       "      <td>0.142857</td>\n",
       "    </tr>\n",
       "    <tr>\n",
       "      <th>3</th>\n",
       "      <td>Какие методики и процедуры расчета оп риска до...</td>\n",
       "      <td>Организация должна зафиксировать во внутренних...</td>\n",
       "      <td>Методики и процедуры расчета операционного рис...</td>\n",
       "      <td>0.078697</td>\n",
       "      <td>6</td>\n",
       "      <td>The model answer is partially relevant and som...</td>\n",
       "      <td>0.194444</td>\n",
       "      <td>0.233333</td>\n",
       "      <td>0.212121</td>\n",
       "      <td>0.095238</td>\n",
       "      <td>0.121212</td>\n",
       "      <td>0.106667</td>\n",
       "      <td>0.166667</td>\n",
       "      <td>0.200000</td>\n",
       "      <td>0.181818</td>\n",
       "    </tr>\n",
       "    <tr>\n",
       "      <th>4</th>\n",
       "      <td>Какие требования должны быть выполнены для иск...</td>\n",
       "      <td>Кредитная организация может исключить определе...</td>\n",
       "      <td>Для исключения доходов и расходов из расчета к...</td>\n",
       "      <td>0.009645</td>\n",
       "      <td>7</td>\n",
       "      <td>The model answer provides a general idea about...</td>\n",
       "      <td>0.254545</td>\n",
       "      <td>0.437500</td>\n",
       "      <td>0.321839</td>\n",
       "      <td>0.016667</td>\n",
       "      <td>0.031250</td>\n",
       "      <td>0.021739</td>\n",
       "      <td>0.200000</td>\n",
       "      <td>0.343750</td>\n",
       "      <td>0.252874</td>\n",
       "    </tr>\n",
       "  </tbody>\n",
       "</table>\n",
       "</div>"
      ],
      "text/plain": [
       "                                            question  \\\n",
       "0  Какие требования предъявляются для перехода на...   \n",
       "1  Какие действия нужно предпринять в случае реор...   \n",
       "2  Какие особенности применения расчетного КВП су...   \n",
       "3  Какие методики и процедуры расчета оп риска до...   \n",
       "4  Какие требования должны быть выполнены для иск...   \n",
       "\n",
       "                                       golden_answer  \\\n",
       "0  Кредитная организация, соответствующая критери...   \n",
       "1  При присоединении другой кредитной организации...   \n",
       "2  Системно значимые кредитные организации обязан...   \n",
       "3  Организация должна зафиксировать во внутренних...   \n",
       "4  Кредитная организация может исключить определе...   \n",
       "\n",
       "                                          rag_answer      bleu llm_score1  \\\n",
       "0  Для перехода на применение расчетного КВП необ...  0.014105          7   \n",
       "1  При реорганизации в форме присоединения другой...  0.018000          7   \n",
       "2  Особенности применения расчетного КВП для сист...  0.009707          6   \n",
       "3  Методики и процедуры расчета операционного рис...  0.078697          6   \n",
       "4  Для исключения доходов и расходов из расчета к...  0.009645          7   \n",
       "\n",
       "                                     llm_score1_desc  rouge-1_r  rouge-1_p  \\\n",
       "0  The model answer is somewhat relevant but lack...   0.169014   0.387097   \n",
       "1  The model answer provides a general instructio...   0.175439   0.322581   \n",
       "2  The model answer is partially relevant and lac...   0.125000   0.166667   \n",
       "3  The model answer is partially relevant and som...   0.194444   0.233333   \n",
       "4  The model answer provides a general idea about...   0.254545   0.437500   \n",
       "\n",
       "   rouge-1_f  rouge-2_r  rouge-2_p  rouge-2_f  rouge-l_r  rouge-l_p  rouge-l_f  \n",
       "0   0.235294   0.086420   0.205882   0.121739   0.154930   0.354839   0.215686  \n",
       "1   0.227273   0.048387   0.093750   0.063830   0.175439   0.322581   0.227273  \n",
       "2   0.142857   0.019231   0.026316   0.022222   0.125000   0.166667   0.142857  \n",
       "3   0.212121   0.095238   0.121212   0.106667   0.166667   0.200000   0.181818  \n",
       "4   0.321839   0.016667   0.031250   0.021739   0.200000   0.343750   0.252874  "
      ]
     },
     "execution_count": 51,
     "metadata": {},
     "output_type": "execute_result"
    }
   ],
   "source": [
    "from rouge import Rouge\n",
    "\n",
    "rouge = Rouge()\n",
    "def compute_rouge(reference, hypothesis):\n",
    "    '''\n",
    "    ROUGE-1: Measures the overlap of unigrams (individual words) between the generated text and the reference text.\n",
    "    ROUGE-2: Measures the overlap of bigrams \n",
    "    ROUGE-L: Measures the longest common subsequence (LCS) between the generated and reference text. \n",
    "        It reflects the sequence similarity and accounts for in-order matches.\n",
    "    r, p, f: recall, precision, and F1-score, respectively.\n",
    "    '''\n",
    "    return rouge.get_scores(hypothesis, reference)[0]\n",
    "\n",
    "df['rouge'] = df.apply(lambda x: compute_rouge(x['golden_answer'], x['rag_answer']), axis=1)\n",
    "rouge_format = {'rouge-1': {'r': 0., 'p': 0., 'f': 0.},\n",
    "                'rouge-2': {'r': 0., 'p': 0., 'f': 0.},\n",
    "                'rouge-l': {'r': 0., 'p': 0., 'f': 0.}}\n",
    "for k1 in rouge_format:\n",
    "    for k2 in rouge_format[k1]:\n",
    "        df[k1 + '_' + k2] = df.apply(lambda x: x['rouge'][k1][k2], axis=1)\n",
    "\n",
    "df.drop(columns=['rouge'], inplace=True)\n",
    "\n",
    "df.head()"
   ]
  },
  {
   "cell_type": "markdown",
   "metadata": {},
   "source": [
    "# LLM metrics (via Gigachat api)"
   ]
  },
  {
   "cell_type": "code",
   "execution_count": null,
   "metadata": {},
   "outputs": [
    {
     "name": "stdout",
     "output_type": "stream",
     "text": [
      "<Response [200]>\n"
     ]
    },
    {
     "name": "stderr",
     "output_type": "stream",
     "text": [
      "/Users/ark.andreev/venvs/venv_py312/lib/python3.12/site-packages/urllib3/connectionpool.py:1099: InsecureRequestWarning: Unverified HTTPS request is being made to host 'ngw.devices.sberbank.ru'. Adding certificate verification is strongly advised. See: https://urllib3.readthedocs.io/en/latest/advanced-usage.html#tls-warnings\n",
      "  warnings.warn(\n"
     ]
    }
   ],
   "source": [
    "from gigachat import GigaChat\n",
    "import requests\n",
    "from tokens import GIGACHAT_AUTHORIZATION_KEY\n",
    "\n",
    "# GIGACHAT_AUTHORIZATION_KEY = ...\n",
    "# free tarif plan\n",
    "\n",
    "url = \"https://ngw.devices.sberbank.ru:9443/api/v2/oauth\"\n",
    "\n",
    "payload={\n",
    "  'scope': 'GIGACHAT_API_PERS'\n",
    "}\n",
    "headers = {\n",
    "  'Content-Type': 'application/x-www-form-urlencoded',\n",
    "  'Accept': 'application/json',\n",
    "  'RqUID': '2436021c-6404-4b41-a981-5ed50973c515',\n",
    "  'Authorization': f'Basic {GIGACHAT_AUTHORIZATION_KEY}'\n",
    "}\n",
    "\n",
    "response = requests.request(\"POST\", url, headers=headers, data=payload, verify=False)\n",
    "\n",
    "print(response)\n",
    "\n",
    "GIGACHAT_ACCESS_TOKEN = response.json()['access_token']"
   ]
  },
  {
   "cell_type": "code",
   "execution_count": 40,
   "metadata": {},
   "outputs": [
    {
     "data": {
      "text/plain": [
       "AIMessage(content='The capital of Russia is Moscow. It is the largest city in the country and a major cultural, political, and economic center.', additional_kwargs={}, response_metadata={'token_usage': Usage(prompt_tokens=18, completion_tokens=27, total_tokens=45), 'model_name': 'GigaChat-Pro:1.0.26.20', 'finish_reason': 'stop'}, id='run-dc1c3462-e2cf-412e-b25d-369e58384ea4-0')"
      ]
     },
     "execution_count": 40,
     "metadata": {},
     "output_type": "execute_result"
    }
   ],
   "source": [
    "from langchain_core.messages import HumanMessage, SystemMessage\n",
    "from langchain_gigachat.chat_models import GigaChat\n",
    "\n",
    "# Авторизация в GigaChat\n",
    "model = GigaChat(\n",
    "    credentials=GIGACHAT_AUTHORIZATION_KEY,\n",
    "    scope=\"GIGACHAT_API_PERS\",\n",
    "    model=[\"GigaChat\", \"GigaChat-Pro\"][1],\n",
    "    # Отключает проверку наличия сертификатов НУЦ Минцифры\n",
    "    verify_ssl_certs=False,\n",
    ")\n",
    "\n",
    "# messages = [\n",
    "#     SystemMessage(\n",
    "#         content=\"Ты эмпатичный бот-психолог, который помогает пользователю решить его проблемы.\"\n",
    "#     )\n",
    "# ]\n",
    "\n",
    "# while(True):\n",
    "#     user_input = input(\"Пользователь: \")\n",
    "#     if user_input == \"пока\":\n",
    "#       break\n",
    "#     messages.append(HumanMessage(content=user_input))\n",
    "#     res = model.invoke(messages)\n",
    "#     messages.append(res)\n",
    "#     print(\"GigaChat: \", res.content)\n",
    "\n",
    "model.invoke(\"What is the capital of Russia?\")"
   ]
  },
  {
   "cell_type": "code",
   "execution_count": 50,
   "metadata": {},
   "outputs": [
    {
     "name": "stderr",
     "output_type": "stream",
     "text": [
      "  2%|▎         | 1/40 [00:00<00:38,  1.01it/s]"
     ]
    },
    {
     "name": "stdout",
     "output_type": "stream",
     "text": [
      "{'description': 'The model answer is somewhat relevant but lacks specificity and completeness compared to the golden answer.', 'score': 7}\n"
     ]
    },
    {
     "name": "stderr",
     "output_type": "stream",
     "text": [
      "  5%|▌         | 2/40 [00:01<00:36,  1.05it/s]"
     ]
    },
    {
     "name": "stdout",
     "output_type": "stream",
     "text": [
      "{'description': 'The model answer provides a general instruction to integrate bases events and update data in Bank Russia, which is somewhat relevant but lacks specific details and accuracy compared to the golden answer.', 'score': 7}\n"
     ]
    },
    {
     "name": "stderr",
     "output_type": "stream",
     "text": [
      "  8%|▊         | 3/40 [00:02<00:32,  1.13it/s]"
     ]
    },
    {
     "name": "stdout",
     "output_type": "stream",
     "text": [
      "{'description': 'The model answer is partially relevant and lacks specific details about the timeline and regulatory requirements.', 'score': 6}\n"
     ]
    },
    {
     "name": "stderr",
     "output_type": "stream",
     "text": [
      " 10%|█         | 4/40 [00:03<00:30,  1.18it/s]"
     ]
    },
    {
     "name": "stdout",
     "output_type": "stream",
     "text": [
      "{'description': 'The model answer is partially relevant and somewhat incomplete compared to the golden answer.', 'score': 6}\n"
     ]
    },
    {
     "name": "stderr",
     "output_type": "stream",
     "text": [
      " 12%|█▎        | 5/40 [00:04<00:30,  1.16it/s]"
     ]
    },
    {
     "name": "stdout",
     "output_type": "stream",
     "text": [
      "{'description': 'The model answer provides a general idea about excluding certain income and expenses from KBI calculation but lacks specific details and references to regulatory requirements.', 'score': 7}\n"
     ]
    },
    {
     "name": "stderr",
     "output_type": "stream",
     "text": [
      " 15%|█▌        | 6/40 [00:05<00:28,  1.18it/s]"
     ]
    },
    {
     "name": "stdout",
     "output_type": "stream",
     "text": [
      "{'description': 'Model answer is relevant and partially accurate but lacks specificity and detail compared to the golden answer.', 'score': 6}\n"
     ]
    },
    {
     "name": "stderr",
     "output_type": "stream",
     "text": [
      " 18%|█▊        | 7/40 [00:06<00:28,  1.17it/s]"
     ]
    },
    {
     "name": "stdout",
     "output_type": "stream",
     "text": [
      "{'description': 'The model answer is largely consistent with the golden answer in terms of measures that Bank Russia can take and their implications on KVP calculation.', 'score': 8}\n"
     ]
    },
    {
     "name": "stderr",
     "output_type": "stream",
     "text": [
      " 20%|██        | 8/40 [00:06<00:26,  1.19it/s]"
     ]
    },
    {
     "name": "stdout",
     "output_type": "stream",
     "text": [
      "{'description': 'The model answer provides general guidance but lacks specificity and detail required in the golden answer.', 'score': 6}\n"
     ]
    },
    {
     "name": "stderr",
     "output_type": "stream",
     "text": [
      " 22%|██▎       | 9/40 [00:07<00:26,  1.18it/s]"
     ]
    },
    {
     "name": "stdout",
     "output_type": "stream",
     "text": [
      "{'description': 'The model answer provides a very basic explanation but lacks specific details and context required in the golden answer.', 'score': 4}\n"
     ]
    },
    {
     "name": "stderr",
     "output_type": "stream",
     "text": [
      " 25%|██▌       | 10/40 [00:08<00:25,  1.19it/s]"
     ]
    },
    {
     "name": "stdout",
     "output_type": "stream",
     "text": [
      "{'description': 'The model answer is partially relevant and somewhat correct but lacks completeness compared to the golden answer.', 'score': 6}\n"
     ]
    },
    {
     "name": "stderr",
     "output_type": "stream",
     "text": [
      " 28%|██▊       | 11/40 [00:09<00:24,  1.19it/s]"
     ]
    },
    {
     "name": "stdout",
     "output_type": "stream",
     "text": [
      "{'description': \"The model's answer provides a relevant principle but lacks specificity and detail compared to the golden answer.\", 'score': 7}\n"
     ]
    },
    {
     "name": "stderr",
     "output_type": "stream",
     "text": [
      " 30%|███       | 12/40 [00:10<00:23,  1.17it/s]"
     ]
    },
    {
     "name": "stdout",
     "output_type": "stream",
     "text": [
      "{'description': 'The model answer is somewhat relevant but does not fully match the requirements set in the golden answer. It lacks specific details about providing the table to the Bank Russia and meeting regulatory obligations.', 'score': 6}\n"
     ]
    },
    {
     "name": "stderr",
     "output_type": "stream",
     "text": [
      " 32%|███▎      | 13/40 [00:11<00:22,  1.18it/s]"
     ]
    },
    {
     "name": "stdout",
     "output_type": "stream",
     "text": [
      "{'description': 'The model answer is partially relevant and somewhat correct but lacks specificity and detail compared to the golden answer.', 'score': 6}\n"
     ]
    },
    {
     "name": "stderr",
     "output_type": "stream",
     "text": [
      " 35%|███▌      | 14/40 [00:12<00:23,  1.12it/s]"
     ]
    },
    {
     "name": "stdout",
     "output_type": "stream",
     "text": [
      "{'description': \"The model answer provides a general statement about the requirement to account for APDF and follow Bank of Russia's methodology, but it lacks specific details and does not directly address the requirements mentioned in the golden answer.\", 'score': 5}\n"
     ]
    },
    {
     "name": "stderr",
     "output_type": "stream",
     "text": [
      " 38%|███▊      | 15/40 [00:13<00:22,  1.11it/s]"
     ]
    },
    {
     "name": "stdout",
     "output_type": "stream",
     "text": [
      "{'description': 'The model answer does not fully address the question about how to account for operational risk events during reorganization in form of division or выделению, as well as its impact on calculating operational risk size.', 'score': 5}\n"
     ]
    },
    {
     "name": "stderr",
     "output_type": "stream",
     "text": [
      " 40%|████      | 16/40 [00:14<00:22,  1.08it/s]"
     ]
    },
    {
     "name": "stdout",
     "output_type": "stream",
     "text": [
      "{'description': \"The model's answer is generally relevant but lacks specific details compared to the golden answer. It addresses the general control measures without delving into specific regulatory requirements or detailed management actions.\", 'score': 7}\n"
     ]
    },
    {
     "name": "stderr",
     "output_type": "stream",
     "text": [
      " 42%|████▎     | 17/40 [00:14<00:21,  1.09it/s]"
     ]
    },
    {
     "name": "stdout",
     "output_type": "stream",
     "text": [
      "{'description': 'The model answer is somewhat relevant but lacks specificity and detail compared to the golden answer. It does not list specific types of events or mention the requirements for capturing these events in the base event.', 'score': 5}\n"
     ]
    },
    {
     "name": "stderr",
     "output_type": "stream",
     "text": [
      " 45%|████▌     | 18/40 [00:15<00:19,  1.12it/s]"
     ]
    },
    {
     "name": "stdout",
     "output_type": "stream",
     "text": [
      "{'description': 'The model answer is generally aligned with the requirements but lacks specificity and detailed requirements as mentioned in the golden answer.', 'score': 7}\n"
     ]
    },
    {
     "name": "stderr",
     "output_type": "stream",
     "text": [
      " 48%|████▊     | 19/40 [00:16<00:18,  1.14it/s]"
     ]
    },
    {
     "name": "stdout",
     "output_type": "stream",
     "text": [
      "{'description': 'The model answer provides a list of measures that are generally relevant but lacks specificity and context compared to the golden answer.', 'score': 7}\n"
     ]
    },
    {
     "name": "stderr",
     "output_type": "stream",
     "text": [
      " 50%|█████     | 20/40 [00:17<00:17,  1.14it/s]"
     ]
    },
    {
     "name": "stdout",
     "output_type": "stream",
     "text": [
      "{'description': 'The model answer is somewhat relevant but lacks specificity and accuracy in addressing the requirements mentioned in the golden answer.', 'score': 4}\n"
     ]
    },
    {
     "name": "stderr",
     "output_type": "stream",
     "text": [
      " 52%|█████▎    | 21/40 [00:18<00:16,  1.17it/s]"
     ]
    },
    {
     "name": "stdout",
     "output_type": "stream",
     "text": [
      "{'description': 'The model answer is somewhat relevant but lacks specificity and detail compared to the golden answer.', 'score': 5}\n"
     ]
    },
    {
     "name": "stderr",
     "output_type": "stream",
     "text": [
      " 55%|█████▌    | 22/40 [00:19<00:15,  1.18it/s]"
     ]
    },
    {
     "name": "stdout",
     "output_type": "stream",
     "text": [
      "{'description': 'The model answer is somewhat relevant and partially correct, but it lacks specificity and detail compared to the golden answer.', 'score': 7}\n"
     ]
    },
    {
     "name": "stderr",
     "output_type": "stream",
     "text": [
      " 57%|█████▊    | 23/40 [00:20<00:15,  1.09it/s]"
     ]
    },
    {
     "name": "stdout",
     "output_type": "stream",
     "text": [
      "{'description': 'The model answer is generally consistent with the golden answer, addressing the need for checking accuracy and completeness of data in the base event. However, it lacks specificity about the annual independent evaluation and regular assessment of system efficiency, which are mentioned in the golden answer. This results in a slightly lower completeness score.', 'score': 8}\n"
     ]
    },
    {
     "name": "stderr",
     "output_type": "stream",
     "text": [
      " 60%|██████    | 24/40 [00:21<00:14,  1.13it/s]"
     ]
    },
    {
     "name": "stdout",
     "output_type": "stream",
     "text": [
      "{'description': 'The model answer is somewhat relevant but lacks specificity and detail compared to the golden answer.', 'score': 7}\n"
     ]
    },
    {
     "name": "stderr",
     "output_type": "stream",
     "text": [
      " 62%|██████▎   | 25/40 [00:21<00:13,  1.10it/s]"
     ]
    },
    {
     "name": "stdout",
     "output_type": "stream",
     "text": [
      "{'description': 'The model answer provides a general statement about procedures and limitations, but it lacks specific details and references to internal documents which are crucial in addressing conflicts of interest in information security management.', 'score': 6}\n"
     ]
    },
    {
     "name": "stderr",
     "output_type": "stream",
     "text": [
      " 65%|██████▌   | 26/40 [00:22<00:12,  1.14it/s]"
     ]
    },
    {
     "name": "stdout",
     "output_type": "stream",
     "text": [
      "{'description': 'The model answer lacks specificity and does not address all elements required in the golden answer.', 'score': 5}\n"
     ]
    },
    {
     "name": "stderr",
     "output_type": "stream",
     "text": [
      " 68%|██████▊   | 27/40 [00:23<00:11,  1.16it/s]"
     ]
    },
    {
     "name": "stdout",
     "output_type": "stream",
     "text": [
      "{'description': 'The model answer provides a general statement about the necessity of annual evaluation but lacks specific details required in the golden answer.', 'score': 6}\n"
     ]
    },
    {
     "name": "stderr",
     "output_type": "stream",
     "text": [
      " 70%|███████   | 28/40 [00:24<00:10,  1.18it/s]"
     ]
    },
    {
     "name": "stdout",
     "output_type": "stream",
     "text": [
      "{'description': \"The model's answer is somewhat relevant but lacks detail and clarity compared to the golden answer.\", 'score': 7}\n"
     ]
    },
    {
     "name": "stderr",
     "output_type": "stream",
     "text": [
      " 72%|███████▎  | 29/40 [00:25<00:09,  1.15it/s]"
     ]
    },
    {
     "name": "stdout",
     "output_type": "stream",
     "text": [
      "{'description': 'The model answer is generally consistent with the golden answer, but it does not mention that internal documents should define how to determine such losses, which is an important part of the process.', 'score': 8}\n"
     ]
    },
    {
     "name": "stderr",
     "output_type": "stream",
     "text": [
      " 75%|███████▌  | 30/40 [00:26<00:08,  1.16it/s]"
     ]
    },
    {
     "name": "stdout",
     "output_type": "stream",
     "text": [
      "{'description': 'The model answer is somewhat relevant but lacks specificity in describing the duties of an information security officer and their connection to operational risk management.', 'score': 6}\n"
     ]
    },
    {
     "name": "stderr",
     "output_type": "stream",
     "text": [
      " 78%|███████▊  | 31/40 [00:27<00:07,  1.17it/s]"
     ]
    },
    {
     "name": "stdout",
     "output_type": "stream",
     "text": [
      "{'description': 'The model answer is too vague and does not directly address the specific requirement of reporting timelines for operational risk.', 'score': 3}\n"
     ]
    },
    {
     "name": "stderr",
     "output_type": "stream",
     "text": [
      " 80%|████████  | 32/40 [00:27<00:07,  1.14it/s]"
     ]
    },
    {
     "name": "stdout",
     "output_type": "stream",
     "text": [
      "{'description': 'The model answer does not fully address the question about adjusting operational risk due to events after reporting date, as it lacks specificity and references to regulatory requirements.', 'score': 5}\n"
     ]
    },
    {
     "name": "stderr",
     "output_type": "stream",
     "text": [
      " 82%|████████▎ | 33/40 [00:28<00:06,  1.15it/s]"
     ]
    },
    {
     "name": "stdout",
     "output_type": "stream",
     "text": [
      "{'description': 'The model answer is partially relevant and incomplete, missing specific details about the types of losses that should be considered in operational risk calculations.', 'score': 7}\n"
     ]
    },
    {
     "name": "stderr",
     "output_type": "stream",
     "text": [
      " 85%|████████▌ | 34/40 [00:29<00:05,  1.14it/s]"
     ]
    },
    {
     "name": "stdout",
     "output_type": "stream",
     "text": [
      "{'description': 'The model answer does not fully align with the requirements of the question. It lacks specific details about the interaction process and the internal documents and methodologies that need to be developed.', 'score': 4}\n"
     ]
    },
    {
     "name": "stderr",
     "output_type": "stream",
     "text": [
      " 88%|████████▊ | 35/40 [00:30<00:04,  1.17it/s]"
     ]
    },
    {
     "name": "stdout",
     "output_type": "stream",
     "text": [
      "{'description': 'The model answer is incomplete and does not directly address the specific requirements of the question.', 'score': 3}\n"
     ]
    },
    {
     "name": "stderr",
     "output_type": "stream",
     "text": [
      " 90%|█████████ | 36/40 [00:31<00:03,  1.17it/s]"
     ]
    },
    {
     "name": "stdout",
     "output_type": "stream",
     "text": [
      "{'description': 'The model answer is very brief and lacks specific details about procedures, analysis methods, and regulatory requirements mentioned in the golden answer.', 'score': 5}\n"
     ]
    },
    {
     "name": "stderr",
     "output_type": "stream",
     "text": [
      " 92%|█████████▎| 37/40 [00:32<00:02,  1.16it/s]"
     ]
    },
    {
     "name": "stdout",
     "output_type": "stream",
     "text": [
      "{'description': 'The model answer mentions some relevant units like financial, legal, IT and risk departments but lacks detail about their interaction methodology, which is critical in an operational risk management context.', 'score': 7}\n"
     ]
    },
    {
     "name": "stderr",
     "output_type": "stream",
     "text": [
      " 95%|█████████▌| 38/40 [00:33<00:01,  1.18it/s]"
     ]
    },
    {
     "name": "stdout",
     "output_type": "stream",
     "text": [
      "{'description': \"The model's answer is partially relevant and somewhat correct but lacks detail compared to the golden answer.\", 'score': 6}\n"
     ]
    },
    {
     "name": "stderr",
     "output_type": "stream",
     "text": [
      " 98%|█████████▊| 39/40 [00:34<00:00,  1.12it/s]"
     ]
    },
    {
     "name": "stdout",
     "output_type": "stream",
     "text": [
      "{'description': 'The model answer provides a general statement about the importance of self-assessment of operational risk, but it does not address the specific requirements or who should conduct the process.', 'score': 3}\n"
     ]
    },
    {
     "name": "stderr",
     "output_type": "stream",
     "text": [
      "100%|██████████| 40/40 [00:35<00:00,  1.14it/s]"
     ]
    },
    {
     "name": "stdout",
     "output_type": "stream",
     "text": [
      "{'description': 'The model answer provides a relevant and concise overview of the requirements for an AI system to manage operational risk, including data collection, processing, analysis, and reporting. However, it lacks some details about specific functions or how these functions should be integrated into other systems, which are mentioned in the golden answer. Therefore, the answer is accurate but somewhat incomplete.', 'score': 8}\n"
     ]
    },
    {
     "name": "stderr",
     "output_type": "stream",
     "text": [
      "\n"
     ]
    },
    {
     "data": {
      "text/html": [
       "<div>\n",
       "<style scoped>\n",
       "    .dataframe tbody tr th:only-of-type {\n",
       "        vertical-align: middle;\n",
       "    }\n",
       "\n",
       "    .dataframe tbody tr th {\n",
       "        vertical-align: top;\n",
       "    }\n",
       "\n",
       "    .dataframe thead th {\n",
       "        text-align: right;\n",
       "    }\n",
       "</style>\n",
       "<table border=\"1\" class=\"dataframe\">\n",
       "  <thead>\n",
       "    <tr style=\"text-align: right;\">\n",
       "      <th></th>\n",
       "      <th>question</th>\n",
       "      <th>golden_answer</th>\n",
       "      <th>rag_answer</th>\n",
       "      <th>bleu</th>\n",
       "      <th>llm_score1</th>\n",
       "      <th>llm_score1_desc</th>\n",
       "    </tr>\n",
       "  </thead>\n",
       "  <tbody>\n",
       "    <tr>\n",
       "      <th>0</th>\n",
       "      <td>Какие требования предъявляются для перехода на...</td>\n",
       "      <td>Кредитная организация, соответствующая критери...</td>\n",
       "      <td>Для перехода на применение расчетного КВП необ...</td>\n",
       "      <td>0.014105</td>\n",
       "      <td>7</td>\n",
       "      <td>The model answer is somewhat relevant but lack...</td>\n",
       "    </tr>\n",
       "    <tr>\n",
       "      <th>1</th>\n",
       "      <td>Какие действия нужно предпринять в случае реор...</td>\n",
       "      <td>При присоединении другой кредитной организации...</td>\n",
       "      <td>При реорганизации в форме присоединения другой...</td>\n",
       "      <td>0.018000</td>\n",
       "      <td>7</td>\n",
       "      <td>The model answer provides a general instructio...</td>\n",
       "    </tr>\n",
       "    <tr>\n",
       "      <th>2</th>\n",
       "      <td>Какие особенности применения расчетного КВП су...</td>\n",
       "      <td>Системно значимые кредитные организации обязан...</td>\n",
       "      <td>Особенности применения расчетного КВП для сист...</td>\n",
       "      <td>0.009707</td>\n",
       "      <td>6</td>\n",
       "      <td>The model answer is partially relevant and lac...</td>\n",
       "    </tr>\n",
       "    <tr>\n",
       "      <th>3</th>\n",
       "      <td>Какие методики и процедуры расчета оп риска до...</td>\n",
       "      <td>Организация должна зафиксировать во внутренних...</td>\n",
       "      <td>Методики и процедуры расчета операционного рис...</td>\n",
       "      <td>0.078697</td>\n",
       "      <td>6</td>\n",
       "      <td>The model answer is partially relevant and som...</td>\n",
       "    </tr>\n",
       "    <tr>\n",
       "      <th>4</th>\n",
       "      <td>Какие требования должны быть выполнены для иск...</td>\n",
       "      <td>Кредитная организация может исключить определе...</td>\n",
       "      <td>Для исключения доходов и расходов из расчета к...</td>\n",
       "      <td>0.009645</td>\n",
       "      <td>7</td>\n",
       "      <td>The model answer provides a general idea about...</td>\n",
       "    </tr>\n",
       "  </tbody>\n",
       "</table>\n",
       "</div>"
      ],
      "text/plain": [
       "                                            question  \\\n",
       "0  Какие требования предъявляются для перехода на...   \n",
       "1  Какие действия нужно предпринять в случае реор...   \n",
       "2  Какие особенности применения расчетного КВП су...   \n",
       "3  Какие методики и процедуры расчета оп риска до...   \n",
       "4  Какие требования должны быть выполнены для иск...   \n",
       "\n",
       "                                       golden_answer  \\\n",
       "0  Кредитная организация, соответствующая критери...   \n",
       "1  При присоединении другой кредитной организации...   \n",
       "2  Системно значимые кредитные организации обязан...   \n",
       "3  Организация должна зафиксировать во внутренних...   \n",
       "4  Кредитная организация может исключить определе...   \n",
       "\n",
       "                                          rag_answer      bleu llm_score1  \\\n",
       "0  Для перехода на применение расчетного КВП необ...  0.014105          7   \n",
       "1  При реорганизации в форме присоединения другой...  0.018000          7   \n",
       "2  Особенности применения расчетного КВП для сист...  0.009707          6   \n",
       "3  Методики и процедуры расчета операционного рис...  0.078697          6   \n",
       "4  Для исключения доходов и расходов из расчета к...  0.009645          7   \n",
       "\n",
       "                                     llm_score1_desc  \n",
       "0  The model answer is somewhat relevant but lack...  \n",
       "1  The model answer provides a general instructio...  \n",
       "2  The model answer is partially relevant and lac...  \n",
       "3  The model answer is partially relevant and som...  \n",
       "4  The model answer provides a general idea about...  "
      ]
     },
     "execution_count": 50,
     "metadata": {},
     "output_type": "execute_result"
    }
   ],
   "source": [
    "from ast import literal_eval\n",
    "from langchain.chat_models.gigachat import GigaChat\n",
    "from tqdm import tqdm\n",
    "\n",
    "model = GigaChat(\n",
    "    credentials=GIGACHAT_AUTHORIZATION_KEY,\n",
    "    scope=\"GIGACHAT_API_PERS\",\n",
    "    model=[\"GigaChat\", \"GigaChat-Pro\"][0],\n",
    "    # Отключает проверку наличия сертификатов НУЦ Минцифры\n",
    "    verify_ssl_certs=False,\n",
    ")\n",
    "\n",
    "def evaluate_with_llm(question, golden_answer, rag_answer):\n",
    "    prompt = f\"\"\"\n",
    "    Evaluate the quality of the answer provided by the model for given question, considering golden answer on this question.\n",
    "    Question: {question}\n",
    "    Golden Answer: {golden_answer}\n",
    "    Model Answer: {rag_answer}\n",
    "    Please provide a score between 1 (very poor) and 10 (excellent) based on relevance, correctness, and completeness.\n",
    "    Please answer with dict with 2 key values, description - a string explaining score, score - integer value from 1 to 10.\"\"\"\n",
    "    response = model.invoke(prompt)\n",
    "    answer = response.content\n",
    "    answer = '\\n'.join(answer.split('\\n')[1:-1])  # answer looks like ```json \\n{'description:'...} \\n```\n",
    "    answer = literal_eval(answer)\n",
    "    return answer\n",
    "\n",
    "df['llm_score1_desc'] = ''\n",
    "df['llm_score1'] = ''\n",
    "for i, row in tqdm(df.iterrows(), total=len(df)):\n",
    "    model_evaluation = evaluate_with_llm(row['question'], row['golden_answer'], row['rag_answer'])\n",
    "    # print(model_evaluation)\n",
    "    df.loc[i, 'llm_score1_desc'] = model_evaluation['description']\n",
    "    df.loc[i, 'llm_score1'] = model_evaluation['score']\n",
    "\n",
    "df.head()"
   ]
  },
  {
   "cell_type": "markdown",
   "metadata": {},
   "source": [
    "# plot calculated metrics"
   ]
  },
  {
   "cell_type": "code",
   "execution_count": 52,
   "metadata": {},
   "outputs": [
    {
     "data": {
      "text/html": [
       "<div>\n",
       "<style scoped>\n",
       "    .dataframe tbody tr th:only-of-type {\n",
       "        vertical-align: middle;\n",
       "    }\n",
       "\n",
       "    .dataframe tbody tr th {\n",
       "        vertical-align: top;\n",
       "    }\n",
       "\n",
       "    .dataframe thead th {\n",
       "        text-align: right;\n",
       "    }\n",
       "</style>\n",
       "<table border=\"1\" class=\"dataframe\">\n",
       "  <thead>\n",
       "    <tr style=\"text-align: right;\">\n",
       "      <th></th>\n",
       "      <th>question</th>\n",
       "      <th>golden_answer</th>\n",
       "      <th>rag_answer</th>\n",
       "      <th>bleu</th>\n",
       "      <th>llm_score1</th>\n",
       "      <th>llm_score1_desc</th>\n",
       "      <th>rouge-1_r</th>\n",
       "      <th>rouge-1_p</th>\n",
       "      <th>rouge-1_f</th>\n",
       "      <th>rouge-2_r</th>\n",
       "      <th>rouge-2_p</th>\n",
       "      <th>rouge-2_f</th>\n",
       "      <th>rouge-l_r</th>\n",
       "      <th>rouge-l_p</th>\n",
       "      <th>rouge-l_f</th>\n",
       "    </tr>\n",
       "  </thead>\n",
       "  <tbody>\n",
       "    <tr>\n",
       "      <th>0</th>\n",
       "      <td>Какие требования предъявляются для перехода на...</td>\n",
       "      <td>Кредитная организация, соответствующая критери...</td>\n",
       "      <td>Для перехода на применение расчетного КВП необ...</td>\n",
       "      <td>0.014105</td>\n",
       "      <td>7</td>\n",
       "      <td>The model answer is somewhat relevant but lack...</td>\n",
       "      <td>0.169014</td>\n",
       "      <td>0.387097</td>\n",
       "      <td>0.235294</td>\n",
       "      <td>0.086420</td>\n",
       "      <td>0.205882</td>\n",
       "      <td>0.121739</td>\n",
       "      <td>0.154930</td>\n",
       "      <td>0.354839</td>\n",
       "      <td>0.215686</td>\n",
       "    </tr>\n",
       "    <tr>\n",
       "      <th>1</th>\n",
       "      <td>Какие действия нужно предпринять в случае реор...</td>\n",
       "      <td>При присоединении другой кредитной организации...</td>\n",
       "      <td>При реорганизации в форме присоединения другой...</td>\n",
       "      <td>0.018000</td>\n",
       "      <td>7</td>\n",
       "      <td>The model answer provides a general instructio...</td>\n",
       "      <td>0.175439</td>\n",
       "      <td>0.322581</td>\n",
       "      <td>0.227273</td>\n",
       "      <td>0.048387</td>\n",
       "      <td>0.093750</td>\n",
       "      <td>0.063830</td>\n",
       "      <td>0.175439</td>\n",
       "      <td>0.322581</td>\n",
       "      <td>0.227273</td>\n",
       "    </tr>\n",
       "    <tr>\n",
       "      <th>2</th>\n",
       "      <td>Какие особенности применения расчетного КВП су...</td>\n",
       "      <td>Системно значимые кредитные организации обязан...</td>\n",
       "      <td>Особенности применения расчетного КВП для сист...</td>\n",
       "      <td>0.009707</td>\n",
       "      <td>6</td>\n",
       "      <td>The model answer is partially relevant and lac...</td>\n",
       "      <td>0.125000</td>\n",
       "      <td>0.166667</td>\n",
       "      <td>0.142857</td>\n",
       "      <td>0.019231</td>\n",
       "      <td>0.026316</td>\n",
       "      <td>0.022222</td>\n",
       "      <td>0.125000</td>\n",
       "      <td>0.166667</td>\n",
       "      <td>0.142857</td>\n",
       "    </tr>\n",
       "    <tr>\n",
       "      <th>3</th>\n",
       "      <td>Какие методики и процедуры расчета оп риска до...</td>\n",
       "      <td>Организация должна зафиксировать во внутренних...</td>\n",
       "      <td>Методики и процедуры расчета операционного рис...</td>\n",
       "      <td>0.078697</td>\n",
       "      <td>6</td>\n",
       "      <td>The model answer is partially relevant and som...</td>\n",
       "      <td>0.194444</td>\n",
       "      <td>0.233333</td>\n",
       "      <td>0.212121</td>\n",
       "      <td>0.095238</td>\n",
       "      <td>0.121212</td>\n",
       "      <td>0.106667</td>\n",
       "      <td>0.166667</td>\n",
       "      <td>0.200000</td>\n",
       "      <td>0.181818</td>\n",
       "    </tr>\n",
       "    <tr>\n",
       "      <th>4</th>\n",
       "      <td>Какие требования должны быть выполнены для иск...</td>\n",
       "      <td>Кредитная организация может исключить определе...</td>\n",
       "      <td>Для исключения доходов и расходов из расчета к...</td>\n",
       "      <td>0.009645</td>\n",
       "      <td>7</td>\n",
       "      <td>The model answer provides a general idea about...</td>\n",
       "      <td>0.254545</td>\n",
       "      <td>0.437500</td>\n",
       "      <td>0.321839</td>\n",
       "      <td>0.016667</td>\n",
       "      <td>0.031250</td>\n",
       "      <td>0.021739</td>\n",
       "      <td>0.200000</td>\n",
       "      <td>0.343750</td>\n",
       "      <td>0.252874</td>\n",
       "    </tr>\n",
       "  </tbody>\n",
       "</table>\n",
       "</div>"
      ],
      "text/plain": [
       "                                            question  \\\n",
       "0  Какие требования предъявляются для перехода на...   \n",
       "1  Какие действия нужно предпринять в случае реор...   \n",
       "2  Какие особенности применения расчетного КВП су...   \n",
       "3  Какие методики и процедуры расчета оп риска до...   \n",
       "4  Какие требования должны быть выполнены для иск...   \n",
       "\n",
       "                                       golden_answer  \\\n",
       "0  Кредитная организация, соответствующая критери...   \n",
       "1  При присоединении другой кредитной организации...   \n",
       "2  Системно значимые кредитные организации обязан...   \n",
       "3  Организация должна зафиксировать во внутренних...   \n",
       "4  Кредитная организация может исключить определе...   \n",
       "\n",
       "                                          rag_answer      bleu llm_score1  \\\n",
       "0  Для перехода на применение расчетного КВП необ...  0.014105          7   \n",
       "1  При реорганизации в форме присоединения другой...  0.018000          7   \n",
       "2  Особенности применения расчетного КВП для сист...  0.009707          6   \n",
       "3  Методики и процедуры расчета операционного рис...  0.078697          6   \n",
       "4  Для исключения доходов и расходов из расчета к...  0.009645          7   \n",
       "\n",
       "                                     llm_score1_desc  rouge-1_r  rouge-1_p  \\\n",
       "0  The model answer is somewhat relevant but lack...   0.169014   0.387097   \n",
       "1  The model answer provides a general instructio...   0.175439   0.322581   \n",
       "2  The model answer is partially relevant and lac...   0.125000   0.166667   \n",
       "3  The model answer is partially relevant and som...   0.194444   0.233333   \n",
       "4  The model answer provides a general idea about...   0.254545   0.437500   \n",
       "\n",
       "   rouge-1_f  rouge-2_r  rouge-2_p  rouge-2_f  rouge-l_r  rouge-l_p  rouge-l_f  \n",
       "0   0.235294   0.086420   0.205882   0.121739   0.154930   0.354839   0.215686  \n",
       "1   0.227273   0.048387   0.093750   0.063830   0.175439   0.322581   0.227273  \n",
       "2   0.142857   0.019231   0.026316   0.022222   0.125000   0.166667   0.142857  \n",
       "3   0.212121   0.095238   0.121212   0.106667   0.166667   0.200000   0.181818  \n",
       "4   0.321839   0.016667   0.031250   0.021739   0.200000   0.343750   0.252874  "
      ]
     },
     "execution_count": 52,
     "metadata": {},
     "output_type": "execute_result"
    }
   ],
   "source": [
    "df.head()"
   ]
  },
  {
   "cell_type": "code",
   "execution_count": null,
   "metadata": {},
   "outputs": [
    {
     "data": {
      "image/png": "[encoded data removed]",
      "text/plain": [
       "<Figure size 1200x900 with 12 Axes>"
      ]
     },
     "metadata": {},
     "output_type": "display_data"
    }
   ],
   "source": [
    "import matplotlib.pyplot as plt\n",
    "\n",
    "cols = ['bleu'] + df.columns[df.columns.str.contains('rouge')].tolist() + ['llm_score1']\n",
    "\n",
    "fig, axes = plt.subplots(3, 4, figsize=(12, 9), constrained_layout=True)\n",
    "\n",
    "for i, ax in enumerate(axes.flat):\n",
    "    if i < len(cols):\n",
    "        df[cols[i]].hist(ax=ax)\n",
    "        ax.set_title(cols[i], fontsize=12)\n",
    "        ax.tick_params(axis='both', which='major', pad=5)        \n",
    "    \n",
    "\n",
    "plt.show()"
   ]
  },
  {
   "cell_type": "code",
   "execution_count": null,
   "metadata": {},
   "outputs": [
    {
     "data": {
      "text/plain": [
       "<matplotlib.collections.PathCollection at 0x31b6b2d20>"
      ]
     },
     "execution_count": 87,
     "metadata": {},
     "output_type": "execute_result"
    },
    {
     "data": {
      "image/png": "[encoded data removed]",
      "text/plain": [
       "<Figure size 640x480 with 1 Axes>"
      ]
     },
     "metadata": {},
     "output_type": "display_data"
    }
   ],
   "source": [
    "plt.scatter(df['llm_score1'], df['rouge-2_f'])  # мда"
   ]
  }
 ],
 "metadata": {
  "kernelspec": {
   "display_name": "venv_py312",
   "language": "python",
   "name": "python3"
  },
  "language_info": {
   "codemirror_mode": {
    "name": "ipython",
    "version": 3
   },
   "file_extension": ".py",
   "mimetype": "text/x-python",
   "name": "python",
   "nbconvert_exporter": "python",
   "pygments_lexer": "ipython3",
   "version": "3.12.4"
  }
 },
 "nbformat": 4,
 "nbformat_minor": 2
}
